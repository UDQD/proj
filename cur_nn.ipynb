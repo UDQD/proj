{
 "cells": [
  {
   "cell_type": "code",
   "execution_count": 4,
   "id": "b6acf818",
   "metadata": {},
   "outputs": [],
   "source": [
    "import requests\n",
    "import re\n",
    "import pandas as pd"
   ]
  },
  {
   "cell_type": "code",
   "execution_count": 2,
   "id": "47e8b8b2",
   "metadata": {},
   "outputs": [],
   "source": [
    "html = requests.get('https://www.alta.ru/currency/').text"
   ]
  },
  {
   "cell_type": "code",
   "execution_count": 3,
   "id": "f1d04297",
   "metadata": {},
   "outputs": [],
   "source": [
    "def get_voltage():\n",
    "    html = requests.get('https://www.alta.ru/currency/').text\n",
    "\n",
    "    # нашли таблицы с валютами(основную и побочную), запарсили их\n",
    "    # к себе, соединили и положили в переменную\n",
    "    tables = pd.concat([pd.read_html(html)[7], pd.read_html(html)[6]],\n",
    "                       ignore_index=True)\n",
    "\n",
    "    # для простоты переименовываем столбцы на английские названия\n",
    "    tables.columns = ['key', 'currency', 'rate']\n",
    "\n",
    "    # разделяем ключи-цифры и ключи-имя валют (первый столбец)\n",
    "    table_key = tables['key'].str.split(' ', expand=True)\n",
    "    table_key.columns = ['number_key', 'name_key']\n",
    "\n",
    "    # совмещаем разделённые столбцы с всей таблицей и удаляем столбец \"повторюшку\"\n",
    "    tables = (pd.concat([table_key, tables], axis=1)).drop('key',\n",
    "                                                           axis=1)\n",
    "\n",
    "    # делаем табличку с наименованием валюты(где также лежит \"цена за X ед.\" и её стоимостью (табл. 1)\n",
    "    table_course = pd.concat([tables['currency'], tables['rate']],\n",
    "                             axis=1)\n",
    "    # взяли столбец с наименованием и разбили его на два(табл. 2):\n",
    "    # столбец с именем и столбец \"цена за Х ед.\"\n",
    "    table_currency = table_course['currency']\n",
    "    table_currency = table_currency.str.split('  ', expand=True)\n",
    "    table_currency.columns = ['name_currency', 'multiplier']\n",
    "    for n in range(149):\n",
    "        table_currency['multiplier'][n] = int(''.join(re.findall('\\d+',\n",
    "                                                                 table_currency['multiplier'][n])))\n",
    "\n",
    "    # объединили табл1 и табл2 удалив \"повторюшку\"\n",
    "    table_course = (pd.concat([table_currency, table_course], axis=1)).drop('currency',\n",
    "                                                                            axis=1)\n",
    "    # в \"цена валюты\" сделали сумму за 1 ед. валюты\n",
    "    table_course['rate'] = table_course['rate']/table_course['multiplier']\n",
    "\n",
    "    # убрали столбец \"цена за Х ед.\" и сделали общую таблицу df\n",
    "    table_course = table_course.drop('multiplier', axis=1)\n",
    "    df = pd.concat([table_key, table_course], axis=1)\n",
    "    return df"
   ]
  },
  {
   "cell_type": "code",
   "execution_count": 5,
   "id": "070e819c",
   "metadata": {},
   "outputs": [],
   "source": [
    "def get_period(fromDate, toDate, Rcode):\n",
    "    url = f'https://cbr.ru/currency_base/dynamics/?UniDbQuery.Posted=True&UniDbQuery.mode=1&UniDbQuery.date_req1=&UniDbQuery.date_req2=&UniDbQuery.VAL_NM_RQ={Rcode}&UniDbQuery.From={fromDate}&UniDbQuery.To={toDate}'\n",
    "    html = requests.get(url).text\n",
    "#     print(url)\n",
    "    table = ((pd.concat(pd.read_html(html), ignore_index = True)).drop(index=[0,1])).reset_index(drop=True)\n",
    "    table.columns = ['date', 'multiplier', 'rate']\n",
    "    table['rate'], table['multiplier'] = pd.to_numeric(table['rate'],downcast = \"float\"), pd.to_numeric(table['multiplier'])\n",
    "    table['date'] = pd.to_datetime(table['date'],format=\"%d.%m.%Y\")\n",
    "    # for n in range(table.shape[0]):\n",
    "    table['rate'] /= table['multiplier']*10000\n",
    "    table = table.drop('multiplier', axis=1)\n",
    "    table = table.iloc[::-1].reset_index(drop=True)\n",
    "    return table"
   ]
  },
  {
   "cell_type": "code",
   "execution_count": 6,
   "id": "150e666d",
   "metadata": {},
   "outputs": [],
   "source": [
    "def getRcode(message):\n",
    "    df = pd.read_csv('file1.csv', delimiter=',')\n",
    "    df.drop('Unnamed: 0', axis=1)\n",
    "    dfName = df.set_index('Name')\n",
    "    dfEngName = df.set_index('EngName')\n",
    "    try:\n",
    "        return str(dfName.loc[message, 'Rcode'])[:6]\n",
    "    except KeyError:\n",
    "        try:\n",
    "            return str(dfEngName.loc[message, 'Rcode'])[:6]\n",
    "        except KeyError:\n",
    "            return \"Нет такой валюты\""
   ]
  },
  {
   "cell_type": "code",
   "execution_count": 7,
   "id": "8c9e0dca",
   "metadata": {},
   "outputs": [],
   "source": [
    "df = pd.read_csv('data_182.csv',sep=';')"
   ]
  },
  {
   "cell_type": "code",
   "execution_count": 8,
   "id": "3a7fbe45",
   "metadata": {},
   "outputs": [],
   "source": [
    "df_usd = df[df['letter_code']=='USD']"
   ]
  },
  {
   "cell_type": "code",
   "execution_count": 9,
   "id": "0ff5ee5b",
   "metadata": {},
   "outputs": [],
   "source": [
    "df_eur = df[df['letter_code']=='EUR']"
   ]
  },
  {
   "cell_type": "code",
   "execution_count": 10,
   "id": "0c765051",
   "metadata": {},
   "outputs": [],
   "source": [
    "df_usd = df_usd[df_usd['date']>='2000-01-01']"
   ]
  },
  {
   "cell_type": "code",
   "execution_count": 11,
   "id": "82767219",
   "metadata": {},
   "outputs": [],
   "source": [
    "df_eur = df_eur[df_eur['date']>='2000-01-01']"
   ]
  },
  {
   "cell_type": "code",
   "execution_count": 12,
   "id": "858ff450",
   "metadata": {},
   "outputs": [],
   "source": [
    "df_eur_val = pd.DataFrame(df_eur['rate'])"
   ]
  },
  {
   "cell_type": "code",
   "execution_count": 13,
   "id": "025356f3",
   "metadata": {},
   "outputs": [],
   "source": [
    "past_days = 67\n",
    "for day in range(past_days):\n",
    "    d = day + 1\n",
    "    df_eur_val[f\"eur_back_{d}d\"] = df_eur_val[\"rate\"].shift(d)\n",
    "df_eur_val.dropna(inplace=True)   \n",
    "df_eur_val = df_eur_val.rename(columns={'rate': 'eur_rate'})\n",
    "df_eur_val = df_eur_val.reset_index()\n",
    "del df_eur_val['index']"
   ]
  },
  {
   "cell_type": "code",
   "execution_count": 14,
   "id": "217d06b6",
   "metadata": {},
   "outputs": [],
   "source": [
    "df_usd_val = pd.DataFrame(df_usd['rate'])"
   ]
  },
  {
   "cell_type": "code",
   "execution_count": 15,
   "id": "cf7dfde6",
   "metadata": {},
   "outputs": [],
   "source": [
    "past_days = 67\n",
    "for day in range(past_days):\n",
    "    d = day + 1\n",
    "    df_usd_val[f\"usd_back_{d}d\"] = df_usd_val[\"rate\"].shift(d)\n",
    "df_usd_val.dropna(inplace=True)   \n",
    "df_usd_val = df_usd_val.rename(columns={'rate': 'usd_rate'})\n",
    "df_usd_val = df_usd_val.reset_index()\n",
    "del df_usd_val['index']"
   ]
  },
  {
   "cell_type": "code",
   "execution_count": 16,
   "id": "1e8b48e1",
   "metadata": {},
   "outputs": [],
   "source": [
    "eur_y = df_eur_val.iloc[:,0:7]\n",
    "usd_y = df_usd_val.iloc[:,0:7]"
   ]
  },
  {
   "cell_type": "code",
   "execution_count": 17,
   "id": "968d8c03",
   "metadata": {},
   "outputs": [],
   "source": [
    "eur_x = df_eur_val.iloc[:,7:]\n",
    "usd_x = df_usd_val.iloc[:,7:]"
   ]
  },
  {
   "cell_type": "code",
   "execution_count": 18,
   "id": "bd06e64d",
   "metadata": {},
   "outputs": [],
   "source": [
    "Y = eur_y.join(usd_y)"
   ]
  },
  {
   "cell_type": "code",
   "execution_count": 19,
   "id": "c6bc88cf",
   "metadata": {},
   "outputs": [],
   "source": [
    "X = eur_x.join(usd_x)"
   ]
  },
  {
   "cell_type": "code",
   "execution_count": 20,
   "id": "5b917036",
   "metadata": {},
   "outputs": [],
   "source": [
    "from sklearn.model_selection import train_test_split\n",
    "X_1, X_2, y_1, y_2 = train_test_split(X, Y, test_size=0.3, random_state=42)"
   ]
  },
  {
   "cell_type": "code",
   "execution_count": 35,
   "id": "13d94c49",
   "metadata": {},
   "outputs": [
    {
     "name": "stdout",
     "output_type": "stream",
     "text": [
      "Model: \"sequential_4\"\n",
      "_________________________________________________________________\n",
      " Layer (type)                Output Shape              Param #   \n",
      "=================================================================\n",
      " dense_13 (Dense)            (None, 1024)              125952    \n",
      "                                                                 \n",
      " dense_14 (Dense)            (None, 512)               524800    \n",
      "                                                                 \n",
      " dense_15 (Dense)            (None, 512)               262656    \n",
      "                                                                 \n",
      " dense_16 (Dense)            (None, 14)                7182      \n",
      "                                                                 \n",
      "=================================================================\n",
      "Total params: 920,590\n",
      "Trainable params: 920,590\n",
      "Non-trainable params: 0\n",
      "_________________________________________________________________\n"
     ]
    }
   ],
   "source": [
    "import tensorflow as tf\n",
    "model = tf.keras.Sequential()\n",
    "model.add(tf.keras.layers.Dense(1024, activation='relu',input_shape=(122,)))\n",
    "model.add(tf.keras.layers.Dense(512, activation='relu'))\n",
    "model.add(tf.keras.layers.Dense(512, activation='relu'))\n",
    "model.add(tf.keras.layers.Dense(14, activation='linear'))\n",
    "\n",
    "# model.summary()\n",
    "optimizer = tf.keras.optimizers.Adam(learning_rate=3e-2)\n",
    "model.compile(loss='mse', \n",
    "                   optimizer=optimizer, metrics=[\"accuracy\"])\n",
    "model.summary()"
   ]
  },
  {
   "cell_type": "code",
   "execution_count": null,
   "id": "ae9c1257",
   "metadata": {},
   "outputs": [
    {
     "name": "stdout",
     "output_type": "stream",
     "text": [
      "Epoch 1/15\n",
      "44/44 [==============================] - 1s 9ms/step - loss: 26558938.0000 - accuracy: 0.1620 - val_loss: 1007.6695 - val_accuracy: 0.2550\n",
      "Epoch 2/15\n",
      "44/44 [==============================] - 0s 7ms/step - loss: 399.2976 - accuracy: 0.1747 - val_loss: 329.2314 - val_accuracy: 0.0995\n",
      "Epoch 3/15\n",
      "44/44 [==============================] - 0s 7ms/step - loss: 331.8997 - accuracy: 0.1555 - val_loss: 330.2914 - val_accuracy: 0.2550\n",
      "Epoch 4/15\n",
      "44/44 [==============================] - 0s 7ms/step - loss: 330.7021 - accuracy: 0.1669 - val_loss: 329.6548 - val_accuracy: 0.2550\n",
      "Epoch 5/15\n",
      "44/44 [==============================] - 0s 7ms/step - loss: 331.2447 - accuracy: 0.1590 - val_loss: 330.8645 - val_accuracy: 0.0796\n",
      "Epoch 6/15\n",
      "44/44 [==============================] - 0s 7ms/step - loss: 331.0465 - accuracy: 0.1588 - val_loss: 330.9145 - val_accuracy: 0.1049\n",
      "Epoch 7/15\n",
      "44/44 [==============================] - 0s 7ms/step - loss: 331.6380 - accuracy: 0.1814 - val_loss: 329.3965 - val_accuracy: 0.2550\n",
      "Epoch 8/15\n",
      "44/44 [==============================] - 0s 7ms/step - loss: 331.1099 - accuracy: 0.1998 - val_loss: 332.2434 - val_accuracy: 0.2550\n",
      "Epoch 9/15\n",
      "44/44 [==============================] - 0s 7ms/step - loss: 330.8553 - accuracy: 0.1395 - val_loss: 331.0059 - val_accuracy: 0.2550\n",
      "Epoch 10/15\n",
      "44/44 [==============================] - 0s 7ms/step - loss: 330.7817 - accuracy: 0.1608 - val_loss: 329.3434 - val_accuracy: 0.0995\n",
      "Epoch 11/15\n",
      "44/44 [==============================] - 0s 7ms/step - loss: 332.2794 - accuracy: 0.1920 - val_loss: 329.2139 - val_accuracy: 0.1049\n",
      "Epoch 12/15\n",
      "44/44 [==============================] - 0s 7ms/step - loss: 331.2943 - accuracy: 0.1671 - val_loss: 329.3624 - val_accuracy: 0.0995\n",
      "Epoch 13/15\n",
      "11/44 [======>.......................] - ETA: 0s - loss: 318.7936 - accuracy: 0.0866"
     ]
    }
   ],
   "source": [
    "model.fit(x=X_1, y=y_1, \n",
    "          batch_size=128, epochs=15,\n",
    "         validation_data=(X_2,y_2))"
   ]
  },
  {
   "cell_type": "code",
   "execution_count": 32,
   "id": "fbce1670",
   "metadata": {},
   "outputs": [
    {
     "name": "stdout",
     "output_type": "stream",
     "text": [
      "75/75 [==============================] - 0s 3ms/step - loss: 478.4872 - accuracy: 0.1521\n"
     ]
    },
    {
     "data": {
      "text/plain": [
       "[478.4871520996094, 0.15212811529636383]"
      ]
     },
     "execution_count": 32,
     "metadata": {},
     "output_type": "execute_result"
    }
   ],
   "source": [
    "model.evaluate(X_2,y_2)"
   ]
  },
  {
   "cell_type": "code",
   "execution_count": 24,
   "id": "06c75130",
   "metadata": {},
   "outputs": [],
   "source": [
    "from matplotlib import pyplot as plt"
   ]
  },
  {
   "cell_type": "code",
   "execution_count": 25,
   "id": "4b0a9fd9",
   "metadata": {},
   "outputs": [],
   "source": [
    "from keras.models import load_model"
   ]
  },
  {
   "cell_type": "code",
   "execution_count": 26,
   "id": "f4a7b20d",
   "metadata": {},
   "outputs": [],
   "source": [
    "nn = load_model('Predict_neural_network_v-1.h5')"
   ]
  },
  {
   "cell_type": "code",
   "execution_count": null,
   "id": "66579418",
   "metadata": {},
   "outputs": [],
   "source": []
  }
 ],
 "metadata": {
  "kernelspec": {
   "display_name": "Python 3 (ipykernel)",
   "language": "python",
   "name": "python3"
  },
  "language_info": {
   "codemirror_mode": {
    "name": "ipython",
    "version": 3
   },
   "file_extension": ".py",
   "mimetype": "text/x-python",
   "name": "python",
   "nbconvert_exporter": "python",
   "pygments_lexer": "ipython3",
   "version": "3.9.7"
  }
 },
 "nbformat": 4,
 "nbformat_minor": 5
}
